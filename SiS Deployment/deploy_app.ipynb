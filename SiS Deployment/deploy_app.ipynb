{
 "cells": [
  {
   "cell_type": "markdown",
   "metadata": {},
   "source": [
    "# Deploy App to Snowflake"
   ]
  },
  {
   "cell_type": "code",
   "execution_count": 1,
   "metadata": {},
   "outputs": [],
   "source": [
    "from snowflake.snowpark import Session\n",
    "from string import Template\n",
    "import json"
   ]
  },
  {
   "cell_type": "markdown",
   "metadata": {},
   "source": [
    "### Connect to Snowflake"
   ]
  },
  {
   "cell_type": "markdown",
   "metadata": {},
   "source": [
    "You can create a session however you like. Here are two possible options. "
   ]
  },
  {
   "cell_type": "markdown",
   "metadata": {},
   "source": [
    "OPTION 1 - Using builder.getOrCreate() to access an existing toml file\n",
    "- https://docs.snowflake.com/en/developer-guide/python-connector/python-connector-connect#connecting-using-the-connections-toml-file"
   ]
  },
  {
   "cell_type": "code",
   "execution_count": 2,
   "metadata": {},
   "outputs": [],
   "source": [
    "session = Session.builder.getOrCreate()"
   ]
  },
  {
   "cell_type": "markdown",
   "metadata": {},
   "source": [
    "OPTION 2 - Using connection params inside builder.configs().create() "
   ]
  },
  {
   "cell_type": "code",
   "execution_count": 3,
   "metadata": {},
   "outputs": [],
   "source": [
    "# connection_params = dict(\n",
    "#     user=\"\",\n",
    "#     role=\"\",\n",
    "#     password=\"\",\n",
    "#     account=\"\",\n",
    "# )\n",
    "\n",
    "# session = Session.builder.configs(connection_params).create()"
   ]
  },
  {
   "cell_type": "markdown",
   "metadata": {},
   "source": [
    "### Establish metadata\n",
    "\n",
    "NOTE: In the metadata dict below, you can change any of the key:value pairs EXCEPT main_file=\"automl_app.py\"."
   ]
  },
  {
   "cell_type": "code",
   "execution_count": 4,
   "metadata": {},
   "outputs": [],
   "source": [
    "metadata = dict(\n",
    "    database_name=\"ML_SIDEKICK\",\n",
    "    schema_name=\"ST_APPS\",\n",
    "    stage_name=\"APP_STG\",\n",
    "    app_name=\"ML_SIDEKICK\",\n",
    "    main_file=\"automl_app.py\",  # DO NOT CHANGE\n",
    "    query_warehouse=\"COMPUTE_WH\",  # CHANGE TO AN EXISTING WAREHOUSE\n",
    ")\n",
    "with open(\"deployment_structure.json\", \"r\") as config:\n",
    "    upload_metadata = json.loads(config.read())"
   ]
  },
  {
   "cell_type": "markdown",
   "metadata": {},
   "source": [
    "### Templates"
   ]
  },
  {
   "cell_type": "code",
   "execution_count": 12,
   "metadata": {},
   "outputs": [],
   "source": [
    "create_db = Template(\"CREATE DATABASE IF NOT EXISTS $db\")\n",
    "create_schema = Template(\"CREATE SCHEMA IF NOT EXISTS $db.$schema\")\n",
    "create_stage = Template(\n",
    "    \"\"\"\n",
    "CREATE STAGE IF NOT EXISTS $db.$schema.$stage\n",
    "DIRECTORY=(ENABLE=TRUE);\n",
    "\"\"\"\n",
    ")\n",
    "create_streamlit = Template(\n",
    "    \"\"\"CREATE STREAMLIT IF NOT EXISTS $db.$schema.$app_name\n",
    "  ROOT_LOCATION = '@$db.$schema.$stage'\n",
    "  MAIN_FILE = '$main_file'\n",
    "  QUERY_WAREHOUSE = $wh\n",
    "  COMMENT = '{\"origin\":\"sf_sit\", \"name\":\"ml_sidekick\", \"version\":{\"major\":1, \"minor\":0}, \"attributes\":{\"component\":\"sis_app\"}}'\n",
    "  \"\"\"\n",
    ")"
   ]
  },
  {
   "cell_type": "markdown",
   "metadata": {},
   "source": [
    "##### Populate Templates"
   ]
  },
  {
   "cell_type": "code",
   "execution_count": 13,
   "metadata": {},
   "outputs": [],
   "source": [
    "db_query = create_db.substitute(db=metadata.get(\"database_name\"))\n",
    "\n",
    "schema_qry = create_schema.substitute(\n",
    "    db=metadata.get(\"database_name\"), schema=metadata.get(\"schema_name\")\n",
    ")\n",
    "\n",
    "stage_qry = create_stage.substitute(\n",
    "    db=metadata.get(\"database_name\"),\n",
    "    schema=metadata.get(\"schema_name\"),\n",
    "    stage=metadata.get(\"stage_name\"),\n",
    ")\n",
    "\n",
    "app_create_qry = create_streamlit.substitute(\n",
    "    app_name=metadata.get(\"app_name\"),\n",
    "    db=metadata.get(\"database_name\"),\n",
    "    schema=metadata.get(\"schema_name\"),\n",
    "    stage=metadata.get(\"stage_name\"),\n",
    "    main_file=metadata.get(\"main_file\"),\n",
    "    wh=metadata.get(\"query_warehouse\"),\n",
    ")"
   ]
  },
  {
   "cell_type": "code",
   "execution_count": 7,
   "metadata": {},
   "outputs": [
    {
     "data": {
      "text/plain": [
       "[Row(status='AUTO_ML already exists, statement succeeded.')]"
      ]
     },
     "execution_count": 7,
     "metadata": {},
     "output_type": "execute_result"
    }
   ],
   "source": [
    "session.sql(db_query).collect()"
   ]
  },
  {
   "cell_type": "code",
   "execution_count": 8,
   "metadata": {},
   "outputs": [
    {
     "data": {
      "text/plain": [
       "[Row(status='ST_APPS already exists, statement succeeded.')]"
      ]
     },
     "execution_count": 8,
     "metadata": {},
     "output_type": "execute_result"
    }
   ],
   "source": [
    "session.sql(schema_qry).collect()"
   ]
  },
  {
   "cell_type": "code",
   "execution_count": 9,
   "metadata": {},
   "outputs": [
    {
     "data": {
      "text/plain": [
       "[Row(status='APP_STG already exists, statement succeeded.')]"
      ]
     },
     "execution_count": 9,
     "metadata": {},
     "output_type": "execute_result"
    }
   ],
   "source": [
    "session.sql(stage_qry).collect()"
   ]
  },
  {
   "cell_type": "markdown",
   "metadata": {},
   "source": [
    "### Upload project files"
   ]
  },
  {
   "cell_type": "code",
   "execution_count": 10,
   "metadata": {},
   "outputs": [],
   "source": [
    "db = metadata.get(\"database_name\")\n",
    "schema = metadata.get(\"schema_name\")\n",
    "stage = metadata.get(\"stage_name\")\n",
    "for i in upload_metadata.get(\"files\"):\n",
    "    for file in i.get(\"files\"):\n",
    "        path = \"\" if i.get(\"parent\") == \"root\" else i.get(\"parent\")\n",
    "        session.file.put(\n",
    "            local_file_name=file,\n",
    "            stage_location=f\"@{db}.{schema}.{stage}/{path}\",\n",
    "            auto_compress=False,\n",
    "            overwrite=True,\n",
    "        )"
   ]
  },
  {
   "cell_type": "markdown",
   "metadata": {},
   "source": [
    "# Finally, Create the app"
   ]
  },
  {
   "cell_type": "code",
   "execution_count": 14,
   "metadata": {},
   "outputs": [
    {
     "data": {
      "text/plain": [
       "[Row(status='Streamlit STREAMLIT_AUTO_ML successfully created.')]"
      ]
     },
     "execution_count": 14,
     "metadata": {},
     "output_type": "execute_result"
    }
   ],
   "source": [
    "session.sql(app_create_qry).collect()"
   ]
  }
 ],
 "metadata": {
  "kernelspec": {
   "display_name": "streamlit-automl",
   "language": "python",
   "name": "python3"
  },
  "language_info": {
   "codemirror_mode": {
    "name": "ipython",
    "version": 3
   },
   "file_extension": ".py",
   "mimetype": "text/x-python",
   "name": "python",
   "nbconvert_exporter": "python",
   "pygments_lexer": "ipython3",
   "version": "3.10.11"
  }
 },
 "nbformat": 4,
 "nbformat_minor": 2
}
